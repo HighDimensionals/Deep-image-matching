{
 "cells": [
  {
   "cell_type": "markdown",
   "metadata": {},
   "source": [
    "# Set the parameters, and the filepaths, here"
   ]
  },
  {
   "cell_type": "code",
   "execution_count": 1,
   "metadata": {
    "collapsed": true
   },
   "outputs": [],
   "source": [
    "## Hyperparameters\n",
    "batch_size = 32\n",
    "# Triplet loss computation parameter\n",
    "margin = 0.1\n",
    "#minimum number of samples required in a class in the train dataset, for that class, to be considered\n",
    "min_count_th = 0 \n",
    "#samples set aside, per class, for validation. They are also samples set aside, per class, for test.\n",
    "samples_per_class_val = 0 \n",
    "samples_per_class_test = 0 \n",
    "#Learning rate\n",
    "learning_rate = 1e-5\n",
    "# Total epochs for training\n",
    "num_epochs = 300\n",
    "# Epochs for re-sampling of triplets\n",
    "epochs_per_triplets = 1\n",
    "# Candidate triplet images generated per triplet of labels\n",
    "triplets_fixed_class = 70\n",
    "# Number of op candidate triplets selected for training\n",
    "top_triplets = 1600\n",
    "# Augmentation - True or False\n",
    "augmentation_flag = False\n",
    "# Length of feature vectors (512 for VGG, 2048 for Resnet50)\n",
    "len_features = 512\n",
    "######################################\n",
    "## Pooling type: 'mac' or 'spoc'\n",
    "pooling_type = 'spoc'\n",
    "######################################\n",
    "## Layers to be fine-tuned\n",
    "# Fine-tune pca layer\n",
    "tune_pca = True\n",
    "# Fine-tune conv5 layer\n",
    "tune_conv5 = True\n",
    "# For naming files\n",
    "tag = 'mac-keras-new-data-margin01'\n",
    "trainingLayer = 'conv5_pca'"
   ]
  },
  {
   "cell_type": "code",
   "execution_count": 3,
   "metadata": {},
   "outputs": [
    {
     "name": "stdout",
     "output_type": "stream",
     "text": [
      "model weights path:  mac-keras-real-base-shape-new-data-margin01_conv5_pca_32_1e-05_300_1_1600\n"
     ]
    }
   ],
   "source": [
    "import sys\n",
    "import os\n",
    "import numpy as np\n",
    "\n",
    "## Append file path for the modules\n",
    "sys.path.append('./modules')\n",
    "\n",
    "## Filepaths\n",
    "# Directory of images\n",
    "imagesDir = '../real_images/train'\n",
    "input_csv_path='../real_images/df_final_all_resized_top14_folder_split_train.csv'\n",
    "# Path for saving train data frame\n",
    "csv_path_train = '../Processed_csvs/train/df_train.csv'\n",
    "# Path for saving validation data frame\n",
    "csv_path_val = '../Processed_csvs/train/df_val.csv'\n",
    "# Path for saving test data frame\n",
    "csv_path_test = '../Processed_csvs/train/df_test.csv'\n",
    "# Column to be used for grouping of images\n",
    "column_target = 'std_image'\n",
    "# For saving train feature vectors:\n",
    "features_parent_dir = './featuresTrain'\n",
    "if not os.path.exists(features_parent_dir):\n",
    "    os.makedirs(features_parent_dir)\n",
    "# Path for saving train feature vectors\n",
    "features_path = features_parent_dir + '/real_image_train_features.h5'\n",
    "# Path for saving ranked triplets\n",
    "csv_path_ranked_triplets = 'df_triplets_ranked.csv'\n",
    "# Path for saving candidate triplets\n",
    "csv_path_triplets = 'df_triplets.csv'\n",
    "# Path to save model weights  \n",
    "weightsTunedPath = '{}_{}_{}_{}_{}_{}_{}'.format(tag,trainingLayer,batch_size,learning_rate,num_epochs,epochs_per_triplets,top_triplets)\n",
    "print(\"model weights path: \", weightsTunedPath)\n",
    "# For saving model after every epoch, if there's an improvement\n",
    "tempStr = tag + '_' + trainingLayer + '_' + str(learning_rate)\n",
    "if not os.path.exists('./checkpoints'):\n",
    "    os.makedirs('./checkpoints')\n",
    "ckpt_filepath = \"./checkpoints/{}-best.h5\".format(tempStr)"
   ]
  },
  {
   "cell_type": "markdown",
   "metadata": {},
   "source": [
    "# Generate the train and validation split"
   ]
  },
  {
   "cell_type": "code",
   "execution_count": null,
   "metadata": {
    "collapsed": true
   },
   "outputs": [],
   "source": [
    "from modules_split_data import split_train_val_test\n",
    "import numpy as np\n",
    "\n",
    "# #For repeatibility os splits\n",
    "np.random.seed(0)\n",
    "#Split the data, and save the corresponding csv's\n",
    "split_train_val_test(input_csv_path,csv_path_train,csv_path_val,csv_path_test,column_target,samples_per_class_val,samples_per_class_test,min_count_th,imagesDir)\n",
    "print(\"Data split into train, validation and test dataset, based on shape, successfully...\")"
   ]
  },
  {
   "cell_type": "markdown",
   "metadata": {},
   "source": [
    "# Load the model (for generating train features)"
   ]
  },
  {
   "cell_type": "code",
   "execution_count": null,
   "metadata": {
    "collapsed": true
   },
   "outputs": [],
   "source": [
    "from load_model import load_deep_retrieval_siamese\n",
    "model_parameters={\"tune_conv5\":tune_conv5, \"tune_pca\":tune_pca,\n",
    "                 \"lr\":1e-5,\"batch\":1,\"margin\":margin,\"model_type\":pooling_type}\n",
    "#pre-trained model, since weights_path not provided \n",
    "model = load_deep_retrieval_siamese(model_parameters)\n",
    "#model.summary()\n"
   ]
  },
  {
   "cell_type": "markdown",
   "metadata": {},
   "source": [
    "# Generate ranked triplets from train data"
   ]
  },
  {
   "cell_type": "code",
   "execution_count": null,
   "metadata": {
    "collapsed": true
   },
   "outputs": [],
   "source": [
    "from modules_generating_triplets import generate_candidate_triplets\n",
    "from modules_generating_triplets import generate_ranked_triplets\n",
    "from modules_generating_triplets import generate_feature_vectors\n",
    "###################################################\n",
    "# Generate, and save, feature vectors for all train images\n",
    "# csv that contains the frame for train images\n",
    "generate_feature_vectors(model,csv_path_train,imagesDir,features_path,len_features)\n",
    "###################################################\n",
    "## Generating triplet candidates\n",
    "# For repeatibility of experiment\n",
    "seed_no=11\n",
    "np.random.seed(seed_no) \n",
    "# Generate triplet candidates\n",
    "generate_candidate_triplets(csv_path_train,csv_path_triplets,triplets_fixed_class,column_target)\n",
    "####################################################\n",
    "## Generating ranked triplets\n",
    "# Print something every 500 triplets\n",
    "verbose=True\n",
    "# Generate ranked triplets\n",
    "print(\"Ranking the triplets...\")\n",
    "generate_ranked_triplets(csv_path_triplets,csv_path_ranked_triplets,features_path,margin,verbose)\n",
    "###################################################"
   ]
  },
  {
   "cell_type": "markdown",
   "metadata": {},
   "source": [
    "# Preprocessing complete. Ready for siamese-tuning of model weights."
   ]
  },
  {
   "cell_type": "markdown",
   "metadata": {},
   "source": [
    "# Re-load the model, for tuning of model weights..."
   ]
  },
  {
   "cell_type": "code",
   "execution_count": null,
   "metadata": {
    "collapsed": true
   },
   "outputs": [],
   "source": [
    "# Delete the existing model\n",
    "%reset_selective -f model"
   ]
  },
  {
   "cell_type": "code",
   "execution_count": 5,
   "metadata": {},
   "outputs": [
    {
     "name": "stderr",
     "output_type": "stream",
     "text": [
      "/home/ubuntu/anaconda3/envs/tensorflow_p36/lib/python3.6/importlib/_bootstrap.py:219: RuntimeWarning: numpy.dtype size changed, may indicate binary incompatibility. Expected 96, got 88\n",
      "  return f(*args, **kwds)\n",
      "/home/ubuntu/anaconda3/envs/tensorflow_p36/lib/python3.6/site-packages/h5py/__init__.py:36: FutureWarning: Conversion of the second argument of issubdtype from `float` to `np.floating` is deprecated. In future, it will be treated as `np.float64 == np.dtype(float).type`.\n",
      "  from ._conv import register_converters as _register_converters\n",
      "Using TensorFlow backend.\n",
      "/home/ubuntu/anaconda3/envs/tensorflow_p36/lib/python3.6/importlib/_bootstrap.py:219: RuntimeWarning: numpy.dtype size changed, may indicate binary incompatibility. Expected 96, got 88\n",
      "  return f(*args, **kwds)\n",
      "/home/ubuntu/anaconda3/envs/tensorflow_p36/lib/python3.6/importlib/_bootstrap.py:219: RuntimeWarning: numpy.dtype size changed, may indicate binary incompatibility. Expected 96, got 88\n",
      "  return f(*args, **kwds)\n"
     ]
    },
    {
     "name": "stdout",
     "output_type": "stream",
     "text": [
      "Loading Deep Image Retrieval (pre-trained weights) model...\n"
     ]
    },
    {
     "name": "stderr",
     "output_type": "stream",
     "text": [
      "./modules/Deep_Retrieval_Siamese_Architecture.py:98: UserWarning: Update your `Model` call to the Keras 2 API: `Model(inputs=Tensor(\"in..., outputs=Tensor(\"PC...)`\n",
      "  pca_model = Model(input=in_pca, output=out_pca)\n",
      "./modules/Deep_Retrieval_Siamese_Architecture.py:113: UserWarning: Update your `Model` call to the Keras 2 API: `Model(inputs=[<tf.Tenso..., outputs=[<tf.Tenso...)`\n",
      "  output=[y_pred])#rmac_norm)\n"
     ]
    },
    {
     "name": "stdout",
     "output_type": "stream",
     "text": [
      "Done!\n",
      "__________________________________________________________________________________________________\n",
      "Layer (type)                    Output Shape         Param #     Connected to                     \n",
      "==================================================================================================\n",
      "input_2 (InputLayer)            (None, 224, 224, 3)  0                                            \n",
      "__________________________________________________________________________________________________\n",
      "input_3 (InputLayer)            (None, 224, 224, 3)  0                                            \n",
      "__________________________________________________________________________________________________\n",
      "input_4 (InputLayer)            (None, 224, 224, 3)  0                                            \n",
      "__________________________________________________________________________________________________\n",
      "vgg16 (Model)                   (None, 7, 7, 512)    14714688    input_2[0][0]                    \n",
      "                                                                 input_3[0][0]                    \n",
      "                                                                 input_4[0][0]                    \n",
      "__________________________________________________________________________________________________\n",
      "query_pooling (Lambda)          (None, 512)          0           vgg16[1][0]                      \n",
      "__________________________________________________________________________________________________\n",
      "relevant_pooling (Lambda)       (None, 512)          0           vgg16[2][0]                      \n",
      "__________________________________________________________________________________________________\n",
      "irrelevant_pooling (Lambda)     (None, 512)          0           vgg16[3][0]                      \n",
      "__________________________________________________________________________________________________\n",
      "query_norm1 (Lambda)            (None, 512)          0           query_pooling[0][0]              \n",
      "__________________________________________________________________________________________________\n",
      "relevant_norm1 (Lambda)         (None, 512)          0           relevant_pooling[0][0]           \n",
      "__________________________________________________________________________________________________\n",
      "irrelevant_norm1 (Lambda)       (None, 512)          0           irrelevant_pooling[0][0]         \n",
      "__________________________________________________________________________________________________\n",
      "model_1 (Model)                 multiple             262656      query_norm1[0][0]                \n",
      "                                                                 relevant_norm1[0][0]             \n",
      "                                                                 irrelevant_norm1[0][0]           \n",
      "__________________________________________________________________________________________________\n",
      "query_norm2 (Lambda)            (None, 512)          0           model_1[1][0]                    \n",
      "__________________________________________________________________________________________________\n",
      "relevant_norm2 (Lambda)         (None, 512)          0           model_1[2][0]                    \n",
      "__________________________________________________________________________________________________\n",
      "irrelevant_norm2 (Lambda)       (None, 512)          0           model_1[3][0]                    \n",
      "__________________________________________________________________________________________________\n",
      "lambda_1 (Lambda)               (None, 3, 512)       0           query_norm2[0][0]                \n",
      "                                                                 relevant_norm2[0][0]             \n",
      "                                                                 irrelevant_norm2[0][0]           \n",
      "==================================================================================================\n",
      "Total params: 14,977,344\n",
      "Trainable params: 7,342,080\n",
      "Non-trainable params: 7,635,264\n",
      "__________________________________________________________________________________________________\n"
     ]
    }
   ],
   "source": [
    "# %load_ext autoreload\n",
    "# %autoreload 2\n",
    "from load_model import load_deep_retrieval_siamese\n",
    "from keras.preprocessing import image\n",
    "import numpy as np\n",
    "import pandas as pd\n",
    "from keras.callbacks import ModelCheckpoint\n",
    "from keras import optimizers\n",
    "\n",
    "model_parameters={\"tune_conv5\":tune_conv5, \"tune_pca\":tune_pca,\n",
    "                 \"lr\":1e-5,\"batch\":batch_size,\"margin\":margin,\"model_type\":pooling_type}\n",
    "# Loading pre-trained model, but with a different batch size this time ..\n",
    "model = load_deep_retrieval_siamese(model_parameters)\n",
    "model.summary()"
   ]
  },
  {
   "cell_type": "markdown",
   "metadata": {},
   "source": [
    "# Preprocess train data for siamese training"
   ]
  },
  {
   "cell_type": "code",
   "execution_count": 6,
   "metadata": {
    "collapsed": true
   },
   "outputs": [],
   "source": [
    "# Making sure number of train images is a multiple of batch_size. This is important, when generating \n",
    "# features from the siamese model, because the model accepts batch_size number of inputs.\n",
    "import os\n",
    "csv_path_train_siamese=os.path.splitext(input_csv_path)[0]+'_siamese'+'.csv'\n",
    "df=pd.read_csv(csv_path_train)\n",
    "new_len_df=int(np.floor(len(df)/batch_size))*batch_size\n",
    "df=df[:new_len_df]\n",
    "df.to_csv(csv_path_train_siamese)"
   ]
  },
  {
   "cell_type": "markdown",
   "metadata": {},
   "source": [
    "# Finally, fine-tune the model weights..."
   ]
  },
  {
   "cell_type": "code",
   "execution_count": 7,
   "metadata": {
    "scrolled": false
   },
   "outputs": [
    {
     "name": "stdout",
     "output_type": "stream",
     "text": [
      "Epoch 1/300\n",
      "50/50 [==============================] - 44s 887ms/step - loss: 3.6624\n",
      "Generating feature vectors...\n",
      "Feature vectors genereated for all train vectors...\n",
      "Candidate triplets generated...\n",
      "Ranking the triplets...\n",
      "Number of candidates with non-zero loss:  12740\n",
      "Total number of candidates:  12740\n",
      "Candidate triplets ranked and saved, successfully...\n",
      "\n",
      "Epoch 00001: saving model to ./checkpoints/mac-keras-real-base-shape-new-data-margin01_conv5_pca_1e-05-best.h5\n",
      "Epoch 2/300\n",
      " 3/50 [>.............................] - ETA: 37s - loss: 3.3413"
     ]
    },
    {
     "ename": "KeyboardInterrupt",
     "evalue": "",
     "output_type": "error",
     "traceback": [
      "\u001b[0;31m---------------------------------------------------------------------------\u001b[0m",
      "\u001b[0;31mKeyboardInterrupt\u001b[0m                         Traceback (most recent call last)",
      "\u001b[0;32m<ipython-input-7-685e1932f84e>\u001b[0m in \u001b[0;36m<module>\u001b[0;34m()\u001b[0m\n\u001b[1;32m     40\u001b[0m \u001b[0;34m\u001b[0m\u001b[0m\n\u001b[1;32m     41\u001b[0m history = model.fit_generator(train_generator,steps_per_epoch = batches_per_epoch\n\u001b[0;32m---> 42\u001b[0;31m                               ,epochs = num_epochs,callbacks=[resampleTriplets,checkpoint])#, lr_scheduler\n\u001b[0m",
      "\u001b[0;32m~/anaconda3/envs/tensorflow_p36/lib/python3.6/site-packages/keras/legacy/interfaces.py\u001b[0m in \u001b[0;36mwrapper\u001b[0;34m(*args, **kwargs)\u001b[0m\n\u001b[1;32m     89\u001b[0m                 warnings.warn('Update your `' + object_name +\n\u001b[1;32m     90\u001b[0m                               '` call to the Keras 2 API: ' + signature, stacklevel=2)\n\u001b[0;32m---> 91\u001b[0;31m             \u001b[0;32mreturn\u001b[0m \u001b[0mfunc\u001b[0m\u001b[0;34m(\u001b[0m\u001b[0;34m*\u001b[0m\u001b[0margs\u001b[0m\u001b[0;34m,\u001b[0m \u001b[0;34m**\u001b[0m\u001b[0mkwargs\u001b[0m\u001b[0;34m)\u001b[0m\u001b[0;34m\u001b[0m\u001b[0m\n\u001b[0m\u001b[1;32m     92\u001b[0m         \u001b[0mwrapper\u001b[0m\u001b[0;34m.\u001b[0m\u001b[0m_original_function\u001b[0m \u001b[0;34m=\u001b[0m \u001b[0mfunc\u001b[0m\u001b[0;34m\u001b[0m\u001b[0m\n\u001b[1;32m     93\u001b[0m         \u001b[0;32mreturn\u001b[0m \u001b[0mwrapper\u001b[0m\u001b[0;34m\u001b[0m\u001b[0m\n",
      "\u001b[0;32m~/anaconda3/envs/tensorflow_p36/lib/python3.6/site-packages/keras/engine/training.py\u001b[0m in \u001b[0;36mfit_generator\u001b[0;34m(self, generator, steps_per_epoch, epochs, verbose, callbacks, validation_data, validation_steps, class_weight, max_queue_size, workers, use_multiprocessing, shuffle, initial_epoch)\u001b[0m\n\u001b[1;32m   1424\u001b[0m             \u001b[0muse_multiprocessing\u001b[0m\u001b[0;34m=\u001b[0m\u001b[0muse_multiprocessing\u001b[0m\u001b[0;34m,\u001b[0m\u001b[0;34m\u001b[0m\u001b[0m\n\u001b[1;32m   1425\u001b[0m             \u001b[0mshuffle\u001b[0m\u001b[0;34m=\u001b[0m\u001b[0mshuffle\u001b[0m\u001b[0;34m,\u001b[0m\u001b[0;34m\u001b[0m\u001b[0m\n\u001b[0;32m-> 1426\u001b[0;31m             initial_epoch=initial_epoch)\n\u001b[0m\u001b[1;32m   1427\u001b[0m \u001b[0;34m\u001b[0m\u001b[0m\n\u001b[1;32m   1428\u001b[0m     \u001b[0;34m@\u001b[0m\u001b[0minterfaces\u001b[0m\u001b[0;34m.\u001b[0m\u001b[0mlegacy_generator_methods_support\u001b[0m\u001b[0;34m\u001b[0m\u001b[0m\n",
      "\u001b[0;32m~/anaconda3/envs/tensorflow_p36/lib/python3.6/site-packages/keras/engine/training_generator.py\u001b[0m in \u001b[0;36mfit_generator\u001b[0;34m(model, generator, steps_per_epoch, epochs, verbose, callbacks, validation_data, validation_steps, class_weight, max_queue_size, workers, use_multiprocessing, shuffle, initial_epoch)\u001b[0m\n\u001b[1;32m    189\u001b[0m                 outs = model.train_on_batch(x, y,\n\u001b[1;32m    190\u001b[0m                                             \u001b[0msample_weight\u001b[0m\u001b[0;34m=\u001b[0m\u001b[0msample_weight\u001b[0m\u001b[0;34m,\u001b[0m\u001b[0;34m\u001b[0m\u001b[0m\n\u001b[0;32m--> 191\u001b[0;31m                                             class_weight=class_weight)\n\u001b[0m\u001b[1;32m    192\u001b[0m \u001b[0;34m\u001b[0m\u001b[0m\n\u001b[1;32m    193\u001b[0m                 \u001b[0;32mif\u001b[0m \u001b[0;32mnot\u001b[0m \u001b[0misinstance\u001b[0m\u001b[0;34m(\u001b[0m\u001b[0mouts\u001b[0m\u001b[0;34m,\u001b[0m \u001b[0mlist\u001b[0m\u001b[0;34m)\u001b[0m\u001b[0;34m:\u001b[0m\u001b[0;34m\u001b[0m\u001b[0m\n",
      "\u001b[0;32m~/anaconda3/envs/tensorflow_p36/lib/python3.6/site-packages/keras/engine/training.py\u001b[0m in \u001b[0;36mtrain_on_batch\u001b[0;34m(self, x, y, sample_weight, class_weight)\u001b[0m\n\u001b[1;32m   1218\u001b[0m             \u001b[0mins\u001b[0m \u001b[0;34m=\u001b[0m \u001b[0mx\u001b[0m \u001b[0;34m+\u001b[0m \u001b[0my\u001b[0m \u001b[0;34m+\u001b[0m \u001b[0msample_weights\u001b[0m\u001b[0;34m\u001b[0m\u001b[0m\n\u001b[1;32m   1219\u001b[0m         \u001b[0mself\u001b[0m\u001b[0;34m.\u001b[0m\u001b[0m_make_train_function\u001b[0m\u001b[0;34m(\u001b[0m\u001b[0;34m)\u001b[0m\u001b[0;34m\u001b[0m\u001b[0m\n\u001b[0;32m-> 1220\u001b[0;31m         \u001b[0moutputs\u001b[0m \u001b[0;34m=\u001b[0m \u001b[0mself\u001b[0m\u001b[0;34m.\u001b[0m\u001b[0mtrain_function\u001b[0m\u001b[0;34m(\u001b[0m\u001b[0mins\u001b[0m\u001b[0;34m)\u001b[0m\u001b[0;34m\u001b[0m\u001b[0m\n\u001b[0m\u001b[1;32m   1221\u001b[0m         \u001b[0;32mif\u001b[0m \u001b[0mlen\u001b[0m\u001b[0;34m(\u001b[0m\u001b[0moutputs\u001b[0m\u001b[0;34m)\u001b[0m \u001b[0;34m==\u001b[0m \u001b[0;36m1\u001b[0m\u001b[0;34m:\u001b[0m\u001b[0;34m\u001b[0m\u001b[0m\n\u001b[1;32m   1222\u001b[0m             \u001b[0;32mreturn\u001b[0m \u001b[0moutputs\u001b[0m\u001b[0;34m[\u001b[0m\u001b[0;36m0\u001b[0m\u001b[0;34m]\u001b[0m\u001b[0;34m\u001b[0m\u001b[0m\n",
      "\u001b[0;32m~/anaconda3/envs/tensorflow_p36/lib/python3.6/site-packages/keras/backend/tensorflow_backend.py\u001b[0m in \u001b[0;36m__call__\u001b[0;34m(self, inputs)\u001b[0m\n\u001b[1;32m   2659\u001b[0m                 \u001b[0;32mreturn\u001b[0m \u001b[0mself\u001b[0m\u001b[0;34m.\u001b[0m\u001b[0m_legacy_call\u001b[0m\u001b[0;34m(\u001b[0m\u001b[0minputs\u001b[0m\u001b[0;34m)\u001b[0m\u001b[0;34m\u001b[0m\u001b[0m\n\u001b[1;32m   2660\u001b[0m \u001b[0;34m\u001b[0m\u001b[0m\n\u001b[0;32m-> 2661\u001b[0;31m             \u001b[0;32mreturn\u001b[0m \u001b[0mself\u001b[0m\u001b[0;34m.\u001b[0m\u001b[0m_call\u001b[0m\u001b[0;34m(\u001b[0m\u001b[0minputs\u001b[0m\u001b[0;34m)\u001b[0m\u001b[0;34m\u001b[0m\u001b[0m\n\u001b[0m\u001b[1;32m   2662\u001b[0m         \u001b[0;32melse\u001b[0m\u001b[0;34m:\u001b[0m\u001b[0;34m\u001b[0m\u001b[0m\n\u001b[1;32m   2663\u001b[0m             \u001b[0;32mif\u001b[0m \u001b[0mpy_any\u001b[0m\u001b[0;34m(\u001b[0m\u001b[0mis_tensor\u001b[0m\u001b[0;34m(\u001b[0m\u001b[0mx\u001b[0m\u001b[0;34m)\u001b[0m \u001b[0;32mfor\u001b[0m \u001b[0mx\u001b[0m \u001b[0;32min\u001b[0m \u001b[0minputs\u001b[0m\u001b[0;34m)\u001b[0m\u001b[0;34m:\u001b[0m\u001b[0;34m\u001b[0m\u001b[0m\n",
      "\u001b[0;32m~/anaconda3/envs/tensorflow_p36/lib/python3.6/site-packages/keras/backend/tensorflow_backend.py\u001b[0m in \u001b[0;36m_call\u001b[0;34m(self, inputs)\u001b[0m\n\u001b[1;32m   2629\u001b[0m                                 \u001b[0msymbol_vals\u001b[0m\u001b[0;34m,\u001b[0m\u001b[0;34m\u001b[0m\u001b[0m\n\u001b[1;32m   2630\u001b[0m                                 session)\n\u001b[0;32m-> 2631\u001b[0;31m         \u001b[0mfetched\u001b[0m \u001b[0;34m=\u001b[0m \u001b[0mself\u001b[0m\u001b[0;34m.\u001b[0m\u001b[0m_callable_fn\u001b[0m\u001b[0;34m(\u001b[0m\u001b[0;34m*\u001b[0m\u001b[0marray_vals\u001b[0m\u001b[0;34m)\u001b[0m\u001b[0;34m\u001b[0m\u001b[0m\n\u001b[0m\u001b[1;32m   2632\u001b[0m         \u001b[0;32mreturn\u001b[0m \u001b[0mfetched\u001b[0m\u001b[0;34m[\u001b[0m\u001b[0;34m:\u001b[0m\u001b[0mlen\u001b[0m\u001b[0;34m(\u001b[0m\u001b[0mself\u001b[0m\u001b[0;34m.\u001b[0m\u001b[0moutputs\u001b[0m\u001b[0;34m)\u001b[0m\u001b[0;34m]\u001b[0m\u001b[0;34m\u001b[0m\u001b[0m\n\u001b[1;32m   2633\u001b[0m \u001b[0;34m\u001b[0m\u001b[0m\n",
      "\u001b[0;32m~/anaconda3/envs/tensorflow_p36/lib/python3.6/site-packages/tensorflow/python/client/session.py\u001b[0m in \u001b[0;36m__call__\u001b[0;34m(self, *args)\u001b[0m\n\u001b[1;32m   1449\u001b[0m         \u001b[0;32mif\u001b[0m \u001b[0mself\u001b[0m\u001b[0;34m.\u001b[0m\u001b[0m_session\u001b[0m\u001b[0;34m.\u001b[0m\u001b[0m_created_with_new_api\u001b[0m\u001b[0;34m:\u001b[0m\u001b[0;34m\u001b[0m\u001b[0m\n\u001b[1;32m   1450\u001b[0m           return tf_session.TF_SessionRunCallable(\n\u001b[0;32m-> 1451\u001b[0;31m               self._session._session, self._handle, args, status, None)\n\u001b[0m\u001b[1;32m   1452\u001b[0m         \u001b[0;32melse\u001b[0m\u001b[0;34m:\u001b[0m\u001b[0;34m\u001b[0m\u001b[0m\n\u001b[1;32m   1453\u001b[0m           return tf_session.TF_DeprecatedSessionRunCallable(\n",
      "\u001b[0;31mKeyboardInterrupt\u001b[0m: "
     ]
    }
   ],
   "source": [
    "# %load_ext autoreload\n",
    "# %autoreload 2\n",
    "import matplotlib.pyplot as plt\n",
    "import keras\n",
    "from keras.callbacks import LearningRateScheduler\n",
    "from modules_custom_callbacks import PlotLosses, save_figs, computeTriplets, generator\n",
    "#%matplotlib inline  \n",
    "#===========================================\n",
    "# Callbacks\n",
    "#===========================================\n",
    "# For plotting train losses after evey epoch\n",
    "plot_losses = PlotLosses(figsize=(8, 5))\n",
    "#===========================================\n",
    "# # Learning rate scheduler\n",
    "# def exp_decay(epoch,learning_rate):\n",
    "#     return ((1e-5)*(0.995 **epoch))\n",
    "# lr_scheduler = LearningRateScheduler(exp_decay, verbose=1)\n",
    "#===========================================\n",
    "# For saving model after every epoch, if there's an improvement\n",
    "checkpoint = ModelCheckpoint(ckpt_filepath,\n",
    "                                monitor='loss',\n",
    "                                verbose=1,\n",
    "                                save_best_only=False,\n",
    "                                save_weights_only=True, \n",
    "                                mode='auto')\n",
    "#===========================================\n",
    "# For resampling candidate triplets after every epochs_per_triplets epochs \n",
    "resampleTriplets = computeTriplets(epochs_per_triplets,features_path,csv_path_train_siamese,batch_size,\n",
    "                                   imagesDir,margin,csv_path_ranked_triplets,csv_path_triplets,triplets_fixed_class,column_target,len_features)\n",
    "#===========================================\n",
    "# Ranked triplets csv\n",
    "input_csv_path=csv_path_ranked_triplets\n",
    "# Making sure top_triplets is a multiple of batch_size, so that batches in an epoch can be exactly tracked\n",
    "top_triplets = int(np.floor(top_triplets/batch_size)) * batch_size\n",
    "batches_per_epoch = top_triplets/batch_size\n",
    "#===========================================\n",
    "# Generator\n",
    "train_generator = generator(input_csv_path,top_triplets, batch_size, 224, 224, 3,imagesDir,batches_per_epoch,epochs_per_triplets,\n",
    "                           len_features,augmentation_flag)\n",
    "#===========================================\n",
    "\n",
    "history = model.fit_generator(train_generator,steps_per_epoch = batches_per_epoch\n",
    "                              ,epochs = num_epochs,callbacks=[resampleTriplets,checkpoint])#, lr_scheduler\n"
   ]
  },
  {
   "cell_type": "markdown",
   "metadata": {},
   "source": [
    "# Save the model"
   ]
  },
  {
   "cell_type": "code",
   "execution_count": 8,
   "metadata": {},
   "outputs": [
    {
     "name": "stdout",
     "output_type": "stream",
     "text": [
      "Fine-tuned model weights saved successfully...\n"
     ]
    }
   ],
   "source": [
    "# Save model in the defined filename\n",
    "if not os.path.exists('./saved_models'):\n",
    "    os.makedirs('./saved_models')\n",
    "model.save_weights('./saved_models/{}.h5'.format(weightsTunedPath))\n",
    "print(\"Fine-tuned model weights saved successfully...\")"
   ]
  },
  {
   "cell_type": "code",
   "execution_count": 9,
   "metadata": {},
   "outputs": [
    {
     "name": "stdout",
     "output_type": "stream",
     "text": [
      "model path:  mac-keras-real-base-shape-new-data-margin01_conv5_pca_32_1e-05_300_1_1600\n"
     ]
    }
   ],
   "source": [
    "print(\"model path: \",weightsTunedPath)"
   ]
  },
  {
   "cell_type": "code",
   "execution_count": null,
   "metadata": {
    "collapsed": true
   },
   "outputs": [],
   "source": []
  }
 ],
 "metadata": {
  "kernelspec": {
   "display_name": "Python 2",
   "language": "python",
   "name": "python2"
  },
  "language_info": {
   "codemirror_mode": {
    "name": "ipython",
    "version": 2
   },
   "file_extension": ".py",
   "mimetype": "text/x-python",
   "name": "python",
   "nbconvert_exporter": "python",
   "pygments_lexer": "ipython2",
   "version": "2.7.14"
  }
 },
 "nbformat": 4,
 "nbformat_minor": 2
}
